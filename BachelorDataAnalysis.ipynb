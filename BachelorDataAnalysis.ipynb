{
 "cells": [
  {
   "cell_type": "code",
   "execution_count": 1,
   "metadata": {},
   "outputs": [],
   "source": [
    "from google.cloud import bigquery\n",
    "import gmaps\n",
    "import matplotlib.pyplot as plt\n",
    "from matplotlib.dates import YearLocator, DateFormatter"
   ]
  },
  {
   "cell_type": "code",
   "execution_count": 2,
   "metadata": {},
   "outputs": [],
   "source": [
    "client = bigquery.Client(project='bachelor-data-analysis')\n",
    "dataset_ref = client.dataset('bachelor_data')\n",
    "dataset = client.get_dataset(dataset_ref)"
   ]
  },
  {
   "cell_type": "code",
   "execution_count": 3,
   "metadata": {},
   "outputs": [],
   "source": [
    "# gmaps authorization for heatmap visualization\n",
    "maps_api_key = ''\n",
    "with open('/Users/ajhamilton/keys/maps-api-key.txt') as f:\n",
    "    maps_api_key = f.readline().strip()\n",
    "    \n",
    "gmaps.configure(api_key=maps_api_key)"
   ]
  },
  {
   "cell_type": "markdown",
   "metadata": {},
   "source": [
    "# Contestant Location Heatmap"
   ]
  },
  {
   "cell_type": "code",
   "execution_count": 4,
   "metadata": {},
   "outputs": [],
   "source": [
    "table_ref = dataset.table('contestant_details')\n",
    "table = client.get_table(table_ref)\n",
    "fields = [table.schema[5]]  # just the hometown column\n",
    "hometowns = client.list_rows(table, selected_fields=fields).to_dataframe()"
   ]
  },
  {
   "cell_type": "code",
   "execution_count": 5,
   "metadata": {},
   "outputs": [],
   "source": [
    "table_ref = dataset.table('hometown_coordinates')\n",
    "table = client.get_table(table_ref)\n",
    "coordinates = client.list_rows(table).to_dataframe()"
   ]
  },
  {
   "cell_type": "code",
   "execution_count": 6,
   "metadata": {},
   "outputs": [
    {
     "data": {
      "application/vnd.jupyter.widget-view+json": {
       "model_id": "de8c703732a74b609fa8f427457dea74",
       "version_major": 2,
       "version_minor": 0
      },
      "text/html": [
       "<p>Failed to display Jupyter Widget of type <code>Figure</code>.</p>\n",
       "<p>\n",
       "  If you're reading this message in the Jupyter Notebook or JupyterLab Notebook, it may mean\n",
       "  that the widgets JavaScript is still loading. If this message persists, it\n",
       "  likely means that the widgets JavaScript library is either not installed or\n",
       "  not enabled. See the <a href=\"https://ipywidgets.readthedocs.io/en/stable/user_install.html\">Jupyter\n",
       "  Widgets Documentation</a> for setup instructions.\n",
       "</p>\n",
       "<p>\n",
       "  If you're reading this message in another frontend (for example, a static\n",
       "  rendering on GitHub or <a href=\"https://nbviewer.jupyter.org/\">NBViewer</a>),\n",
       "  it may mean that your frontend doesn't currently support widgets.\n",
       "</p>\n"
      ],
      "text/plain": [
       "Figure(layout=FigureLayout(height='420px'))"
      ]
     },
     "metadata": {},
     "output_type": "display_data"
    }
   ],
   "source": [
    "# map coordinates to contestant hometowns\n",
    "hometown_coordinates = hometowns.merge(coordinates, how='left', left_on='hometown', right_on='city')\n",
    "# transform to list of tuple(latitude, longitude) for gmaps\n",
    "locations = [(row.lat, row.long) for _, row in hometown_coordinates.iterrows()]\n",
    "\n",
    "fig = gmaps.figure()\n",
    "fig.add_layer(gmaps.heatmap_layer(locations))\n",
    "# Note: the image below is a static png because the interactive tool does not render in Github\n",
    "fig"
   ]
  },
  {
   "cell_type": "markdown",
   "metadata": {},
   "source": [
    "<img src=\"map.png\" alt=\"Contestant Location Heatmap\"/>"
   ]
  },
  {
   "cell_type": "markdown",
   "metadata": {},
   "source": [
    "# Winners Who Received the First Impression Rose"
   ]
  },
  {
   "cell_type": "code",
   "execution_count": 7,
   "metadata": {},
   "outputs": [
    {
     "data": {
      "text/plain": [
       "27"
      ]
     },
     "execution_count": 7,
     "metadata": {},
     "output_type": "execute_result"
    }
   ],
   "source": [
    "# Calculate the number of seasons that have first impression rose(s)\n",
    "query = \"\"\"\n",
    "SELECT COUNT(*) \n",
    "FROM (\n",
    "    SELECT DISTINCT show, season\n",
    "    FROM `bachelor-data-analysis.bachelor_data.event_log`\n",
    "    WHERE action = 'R1'\n",
    ")\n",
    "\"\"\"\n",
    "seasons_w_FIR = list(client.query(query))[0][0]\n",
    "seasons_w_FIR"
   ]
  },
  {
   "cell_type": "code",
   "execution_count": 8,
   "metadata": {},
   "outputs": [
    {
     "data": {
      "text/plain": [
       "46"
      ]
     },
     "execution_count": 8,
     "metadata": {},
     "output_type": "execute_result"
    }
   ],
   "source": [
    "# Calculate the number of first impression rose recipients\n",
    "# Note that a season may have zero to many first impression roses\n",
    "query = \"\"\"\n",
    "SELECT COUNT(*) \n",
    "FROM `bachelor-data-analysis.bachelor_data.event_log`\n",
    "WHERE action = 'R1'\n",
    "\"\"\"\n",
    "count_of_recipients = list(client.query(query))[0][0]\n",
    "count_of_recipients"
   ]
  },
  {
   "cell_type": "code",
   "execution_count": 9,
   "metadata": {},
   "outputs": [
    {
     "name": "stdout",
     "output_type": "stream",
     "text": [
      "13.04% of First Impression Rose recipients were winners\n",
      "This represents 22.22% of seasons with First Impression Roses\n"
     ]
    },
    {
     "data": {
      "text/html": [
       "<div>\n",
       "<style scoped>\n",
       "    .dataframe tbody tr th:only-of-type {\n",
       "        vertical-align: middle;\n",
       "    }\n",
       "\n",
       "    .dataframe tbody tr th {\n",
       "        vertical-align: top;\n",
       "    }\n",
       "\n",
       "    .dataframe thead th {\n",
       "        text-align: right;\n",
       "    }\n",
       "</style>\n",
       "<table border=\"1\" class=\"dataframe\">\n",
       "  <thead>\n",
       "    <tr style=\"text-align: right;\">\n",
       "      <th></th>\n",
       "      <th>show</th>\n",
       "      <th>season</th>\n",
       "      <th>full_name</th>\n",
       "    </tr>\n",
       "  </thead>\n",
       "  <tbody>\n",
       "    <tr>\n",
       "      <th>0</th>\n",
       "      <td>Bachelor</td>\n",
       "      <td>17</td>\n",
       "      <td>Catherine Giudici</td>\n",
       "    </tr>\n",
       "    <tr>\n",
       "      <th>1</th>\n",
       "      <td>Bachelorette</td>\n",
       "      <td>4</td>\n",
       "      <td>Jesse Csincsak</td>\n",
       "    </tr>\n",
       "    <tr>\n",
       "      <th>2</th>\n",
       "      <td>Bachelorette</td>\n",
       "      <td>11</td>\n",
       "      <td>Shawn Booth</td>\n",
       "    </tr>\n",
       "    <tr>\n",
       "      <th>3</th>\n",
       "      <td>Bachelorette</td>\n",
       "      <td>13</td>\n",
       "      <td>Bryan Abasolo</td>\n",
       "    </tr>\n",
       "    <tr>\n",
       "      <th>4</th>\n",
       "      <td>Bachelorette</td>\n",
       "      <td>6</td>\n",
       "      <td>Roberto Martinez</td>\n",
       "    </tr>\n",
       "    <tr>\n",
       "      <th>5</th>\n",
       "      <td>Bachelorette</td>\n",
       "      <td>12</td>\n",
       "      <td>Jordan Rodgers</td>\n",
       "    </tr>\n",
       "  </tbody>\n",
       "</table>\n",
       "</div>"
      ],
      "text/plain": [
       "           show  season          full_name\n",
       "0      Bachelor      17  Catherine Giudici\n",
       "1  Bachelorette       4     Jesse Csincsak\n",
       "2  Bachelorette      11        Shawn Booth\n",
       "3  Bachelorette      13      Bryan Abasolo\n",
       "4  Bachelorette       6   Roberto Martinez\n",
       "5  Bachelorette      12     Jordan Rodgers"
      ]
     },
     "execution_count": 9,
     "metadata": {},
     "output_type": "execute_result"
    }
   ],
   "source": [
    "query = \"\"\"\n",
    "SELECT show, season, full_name \n",
    "FROM `bachelor-data-analysis.bachelor_data.event_log`\n",
    "WHERE unique_id IN\n",
    "(\n",
    "    SELECT unique_id\n",
    "    FROM `bachelor-data-analysis.bachelor_data.event_log`\n",
    "    WHERE action = 'R1'\n",
    ")\n",
    "AND action = 'W'\n",
    "\"\"\"\n",
    "winners_w_FIR = client.query(query).to_dataframe()\n",
    "percent_of_recipients = round(len(winners_w_FIR) / count_of_recipients * 100, 2)\n",
    "percent_of_seasons = round(len(winners_w_FIR) / seasons_w_FIR * 100, 2)\n",
    "print(\"{}% of First Impression Rose recipients were winners\".format(percent_of_recipients))\n",
    "print(\"This represents {}% of seasons with First Impression Roses\".format(percent_of_seasons))\n",
    "winners_w_FIR"
   ]
  },
  {
   "cell_type": "markdown",
   "metadata": {},
   "source": [
    "# Common Names\n",
    "\n",
    "_Hypothesis: There are more people named Lauren on the Bachelor than in real life_"
   ]
  },
  {
   "cell_type": "code",
   "execution_count": 10,
   "metadata": {},
   "outputs": [],
   "source": [
    "# Prepare DataFrame of top 10 Bachelor contestant first names\n",
    "query = \"\"\"\n",
    "SELECT show, REGEXP_EXTRACT(full_name, r\"^[a-zA-Z.']+\") AS first_name\n",
    "FROM `bachelor-data-analysis.bachelor_data.contestant_details`\n",
    "WHERE show = 'Bachelor'\n",
    "\"\"\"\n",
    "bach_names = client.query(query).to_dataframe()\n",
    "bach_names = bach_names.groupby('first_name').size().reset_index(name='count')\n",
    "bach_names['percentage'] = bach_names['count'] / bach_names['count'].sum() * 100\n",
    "top_bach_names = bach_names.nlargest(10, 'percentage')[['first_name', 'percentage']]"
   ]
  },
  {
   "cell_type": "code",
   "execution_count": 11,
   "metadata": {},
   "outputs": [],
   "source": [
    "# Prepare DataFrame of first names of women born between 1970 and 1995 \n",
    "# (approximate contestant age range)\n",
    "query = \"\"\"\n",
    "SELECT name as first_name, SUM(number) as count\n",
    "FROM `bigquery-public-data.usa_names.usa_1910_current`\n",
    "WHERE year BETWEEN 1970 AND 1995 AND GENDER = 'F' AND name IN UNNEST(@top_names)\n",
    "GROUP BY first_name\n",
    "\"\"\"\n",
    "top_names = list(top_bach_names.first_name)\n",
    "query_param = bigquery.ArrayQueryParameter('top_names', 'STRING', top_names)\n",
    "job_config = bigquery.QueryJobConfig()\n",
    "job_config.query_parameters = [query_param]\n",
    "usa_names = client.query(query, job_config=job_config).to_dataframe()"
   ]
  },
  {
   "cell_type": "code",
   "execution_count": 12,
   "metadata": {},
   "outputs": [],
   "source": [
    "# Calcualate each name's popularity\n",
    "query = \"\"\"\n",
    "SELECT SUM(number) as total\n",
    "FROM `bigquery-public-data.usa_names.usa_1910_current`\n",
    "WHERE year BETWEEN 1970 AND 1995 AND GENDER = 'F'\n",
    "\"\"\"\n",
    "total_count = list(client.query(query))[0].total\n",
    "usa_names['percentage'] = usa_names['count'] / total_count * 100\n",
    "usa_names.drop('count', axis=1, inplace=True)  # 'count' column is no longer needed"
   ]
  },
  {
   "cell_type": "code",
   "execution_count": 13,
   "metadata": {},
   "outputs": [
    {
     "data": {
      "image/png": "[encoded data removed]",
      "text/plain": [
       "<Figure size 936x504 with 1 Axes>"
      ]
     },
     "metadata": {},
     "output_type": "display_data"
    }
   ],
   "source": [
    "name_frequencies = usa_names.merge(top_bach_names, how='left', on='first_name', suffixes=['_usa','_bach'])\n",
    "name_frequencies.sort_values('percentage_bach', inplace=True)\n",
    "\n",
    "ax = name_frequencies.plot(kind='bar', x='first_name', figsize=(13,7), rot=0)\n",
    "ax.legend(['USA', 'Bachelor'])\n",
    "ax.set_title('Name Popularity on The Bachelor vs. the US', fontweight='bold', fontsize=20)\n",
    "ax.set_ylabel('Percent of Population', fontweight='bold', fontsize=14)\n",
    "ax.set_xlabel('Name', fontweight='bold', fontsize=14)\n",
    "plt.show()"
   ]
  },
  {
   "cell_type": "markdown",
   "metadata": {},
   "source": [
    "# Age of the Bachelor/Bachelorette Over Time"
   ]
  },
  {
   "cell_type": "code",
   "execution_count": 14,
   "metadata": {},
   "outputs": [],
   "source": [
    "query = \"\"\"\n",
    "SELECT start_date, age, show\n",
    "FROM `bachelor-data-analysis.bachelor_data.season_details`\n",
    "ORDER BY start_date\n",
    "\"\"\"\n",
    "lead_age_df = client.query(query).to_dataframe()"
   ]
  },
  {
   "cell_type": "code",
   "execution_count": 15,
   "metadata": {},
   "outputs": [
    {
     "data": {
      "image/png": "[encoded data removed]",
      "text/plain": [
       "<Figure size 936x504 with 1 Axes>"
      ]
     },
     "metadata": {},
     "output_type": "display_data"
    }
   ],
   "source": [
    "groups = lead_age_df.groupby('show')\n",
    "\n",
    "fig, ax = plt.subplots()\n",
    "for name, group in groups:\n",
    "    ax.plot_date(group.start_date, group.age, 'o', linestyle='', ms=12, label=name)\n",
    "ax.legend()\n",
    "    \n",
    "# format the ticks\n",
    "ax.xaxis.set_major_locator(YearLocator())\n",
    "ax.xaxis.set_major_formatter(DateFormatter('%Y'))\n",
    "ax.autoscale_view()\n",
    "ax.margins(0.05)\n",
    "ax.grid(True)\n",
    "fig.autofmt_xdate()  # makes years diagonal\n",
    "\n",
    "ax.set_title('Age of the Bachelor/Bachelorette Over Time', fontweight='bold', fontsize=20)\n",
    "ax.set_ylabel('Age', fontweight='bold', fontsize=14)\n",
    "ax.set_xlabel('Year of Show Premier', fontweight='bold', fontsize=14)\n",
    "fig.set_figheight(7)\n",
    "fig.set_figwidth(13)\n",
    "plt.show()"
   ]
  },
  {
   "cell_type": "code",
   "execution_count": 16,
   "metadata": {},
   "outputs": [
    {
     "data": {
      "text/html": [
       "<div>\n",
       "<style scoped>\n",
       "    .dataframe tbody tr th:only-of-type {\n",
       "        vertical-align: middle;\n",
       "    }\n",
       "\n",
       "    .dataframe tbody tr th {\n",
       "        vertical-align: top;\n",
       "    }\n",
       "\n",
       "    .dataframe thead tr th {\n",
       "        text-align: left;\n",
       "    }\n",
       "\n",
       "    .dataframe thead tr:last-of-type th {\n",
       "        text-align: right;\n",
       "    }\n",
       "</style>\n",
       "<table border=\"1\" class=\"dataframe\">\n",
       "  <thead>\n",
       "    <tr>\n",
       "      <th></th>\n",
       "      <th colspan=\"8\" halign=\"left\">age</th>\n",
       "    </tr>\n",
       "    <tr>\n",
       "      <th></th>\n",
       "      <th>count</th>\n",
       "      <th>mean</th>\n",
       "      <th>std</th>\n",
       "      <th>min</th>\n",
       "      <th>25%</th>\n",
       "      <th>50%</th>\n",
       "      <th>75%</th>\n",
       "      <th>max</th>\n",
       "    </tr>\n",
       "    <tr>\n",
       "      <th>show</th>\n",
       "      <th></th>\n",
       "      <th></th>\n",
       "      <th></th>\n",
       "      <th></th>\n",
       "      <th></th>\n",
       "      <th></th>\n",
       "      <th></th>\n",
       "      <th></th>\n",
       "    </tr>\n",
       "  </thead>\n",
       "  <tbody>\n",
       "    <tr>\n",
       "      <th>Bachelor</th>\n",
       "      <td>22.0</td>\n",
       "      <td>31.636364</td>\n",
       "      <td>3.811580</td>\n",
       "      <td>25.0</td>\n",
       "      <td>29.0</td>\n",
       "      <td>32.0</td>\n",
       "      <td>34.0</td>\n",
       "      <td>40.0</td>\n",
       "    </tr>\n",
       "    <tr>\n",
       "      <th>Bachelorette</th>\n",
       "      <td>13.0</td>\n",
       "      <td>27.538462</td>\n",
       "      <td>1.941451</td>\n",
       "      <td>25.0</td>\n",
       "      <td>26.0</td>\n",
       "      <td>27.0</td>\n",
       "      <td>29.0</td>\n",
       "      <td>31.0</td>\n",
       "    </tr>\n",
       "  </tbody>\n",
       "</table>\n",
       "</div>"
      ],
      "text/plain": [
       "               age                                                   \n",
       "             count       mean       std   min   25%   50%   75%   max\n",
       "show                                                                 \n",
       "Bachelor      22.0  31.636364  3.811580  25.0  29.0  32.0  34.0  40.0\n",
       "Bachelorette  13.0  27.538462  1.941451  25.0  26.0  27.0  29.0  31.0"
      ]
     },
     "execution_count": 16,
     "metadata": {},
     "output_type": "execute_result"
    }
   ],
   "source": [
    "groups.describe()"
   ]
  }
 ],
 "metadata": {
  "kernelspec": {
   "display_name": "Python 3",
   "language": "python",
   "name": "python3"
  },
  "language_info": {
   "codemirror_mode": {
    "name": "ipython",
    "version": 3
   },
   "file_extension": ".py",
   "mimetype": "text/x-python",
   "name": "python",
   "nbconvert_exporter": "python",
   "pygments_lexer": "ipython3",
   "version": "3.6.4"
  }
 },
 "nbformat": 4,
 "nbformat_minor": 2
}
